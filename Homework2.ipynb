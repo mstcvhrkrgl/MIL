{
 "cells": [
  {
   "cell_type": "markdown",
   "id": "cd2380d5",
   "metadata": {},
   "source": [
    "# Problem 1"
   ]
  },
  {
   "cell_type": "code",
   "execution_count": 24,
   "id": "622e56d4",
   "metadata": {
    "ExecuteTime": {
     "end_time": "2021-10-29T01:29:19.006817Z",
     "start_time": "2021-10-29T01:29:19.004102Z"
    }
   },
   "outputs": [],
   "source": [
    "import numpy as np\n",
    "import matplotlib.pyplot as plt\n",
    "import pandas as pd\n",
    "import matplotlib.pyplot as plt"
   ]
  },
  {
   "cell_type": "code",
   "execution_count": 3,
   "id": "e57e82f0",
   "metadata": {
    "ExecuteTime": {
     "end_time": "2021-10-29T01:20:03.837723Z",
     "start_time": "2021-10-29T01:20:03.831453Z"
    }
   },
   "outputs": [],
   "source": [
    "dataset = pd.read_csv(\"diabetes.csv\")"
   ]
  },
  {
   "cell_type": "code",
   "execution_count": 4,
   "id": "e238ad71",
   "metadata": {
    "ExecuteTime": {
     "end_time": "2021-10-29T01:20:21.403930Z",
     "start_time": "2021-10-29T01:20:21.374397Z"
    }
   },
   "outputs": [
    {
     "data": {
      "text/html": [
       "<div>\n",
       "<style scoped>\n",
       "    .dataframe tbody tr th:only-of-type {\n",
       "        vertical-align: middle;\n",
       "    }\n",
       "\n",
       "    .dataframe tbody tr th {\n",
       "        vertical-align: top;\n",
       "    }\n",
       "\n",
       "    .dataframe thead th {\n",
       "        text-align: right;\n",
       "    }\n",
       "</style>\n",
       "<table border=\"1\" class=\"dataframe\">\n",
       "  <thead>\n",
       "    <tr style=\"text-align: right;\">\n",
       "      <th></th>\n",
       "      <th>Pregnancies</th>\n",
       "      <th>Glucose</th>\n",
       "      <th>BloodPressure</th>\n",
       "      <th>SkinThickness</th>\n",
       "      <th>Insulin</th>\n",
       "      <th>BMI</th>\n",
       "      <th>DiabetesPedigreeFunction</th>\n",
       "      <th>Age</th>\n",
       "      <th>Outcome</th>\n",
       "    </tr>\n",
       "  </thead>\n",
       "  <tbody>\n",
       "    <tr>\n",
       "      <th>0</th>\n",
       "      <td>6</td>\n",
       "      <td>148</td>\n",
       "      <td>72</td>\n",
       "      <td>35</td>\n",
       "      <td>0</td>\n",
       "      <td>33.6</td>\n",
       "      <td>0.627</td>\n",
       "      <td>50</td>\n",
       "      <td>1</td>\n",
       "    </tr>\n",
       "    <tr>\n",
       "      <th>1</th>\n",
       "      <td>1</td>\n",
       "      <td>85</td>\n",
       "      <td>66</td>\n",
       "      <td>29</td>\n",
       "      <td>0</td>\n",
       "      <td>26.6</td>\n",
       "      <td>0.351</td>\n",
       "      <td>31</td>\n",
       "      <td>0</td>\n",
       "    </tr>\n",
       "    <tr>\n",
       "      <th>2</th>\n",
       "      <td>8</td>\n",
       "      <td>183</td>\n",
       "      <td>64</td>\n",
       "      <td>0</td>\n",
       "      <td>0</td>\n",
       "      <td>23.3</td>\n",
       "      <td>0.672</td>\n",
       "      <td>32</td>\n",
       "      <td>1</td>\n",
       "    </tr>\n",
       "    <tr>\n",
       "      <th>3</th>\n",
       "      <td>1</td>\n",
       "      <td>89</td>\n",
       "      <td>66</td>\n",
       "      <td>23</td>\n",
       "      <td>94</td>\n",
       "      <td>28.1</td>\n",
       "      <td>0.167</td>\n",
       "      <td>21</td>\n",
       "      <td>0</td>\n",
       "    </tr>\n",
       "    <tr>\n",
       "      <th>4</th>\n",
       "      <td>0</td>\n",
       "      <td>137</td>\n",
       "      <td>40</td>\n",
       "      <td>35</td>\n",
       "      <td>168</td>\n",
       "      <td>43.1</td>\n",
       "      <td>2.288</td>\n",
       "      <td>33</td>\n",
       "      <td>1</td>\n",
       "    </tr>\n",
       "  </tbody>\n",
       "</table>\n",
       "</div>"
      ],
      "text/plain": [
       "   Pregnancies  Glucose  BloodPressure  SkinThickness  Insulin   BMI  \\\n",
       "0            6      148             72             35        0  33.6   \n",
       "1            1       85             66             29        0  26.6   \n",
       "2            8      183             64              0        0  23.3   \n",
       "3            1       89             66             23       94  28.1   \n",
       "4            0      137             40             35      168  43.1   \n",
       "\n",
       "   DiabetesPedigreeFunction  Age  Outcome  \n",
       "0                     0.627   50        1  \n",
       "1                     0.351   31        0  \n",
       "2                     0.672   32        1  \n",
       "3                     0.167   21        0  \n",
       "4                     2.288   33        1  "
      ]
     },
     "execution_count": 4,
     "metadata": {},
     "output_type": "execute_result"
    }
   ],
   "source": [
    "dataset.head()"
   ]
  },
  {
   "cell_type": "code",
   "execution_count": 31,
   "id": "8923616c",
   "metadata": {
    "ExecuteTime": {
     "end_time": "2021-10-29T01:34:38.640187Z",
     "start_time": "2021-10-29T01:34:38.634319Z"
    }
   },
   "outputs": [],
   "source": [
    "from sklearn.model_selection import train_test_split\n",
    "\n",
    "df = pd.read_csv(r'diabetes.csv')\n",
    "x = df.values[:, :7]\n",
    "y = df.values[:, 8]\n",
    "\n",
    "sc0 = MinMaxScaler()\n",
    "x = sc0.fit_transform(x)\n",
    "\n",
    "np.random.seed(0)\n",
    "x_train, x_test, y_train, y_test = train_test_split(x, y, train_size=0.8, test_size=0.2, random_state=np.random)"
   ]
  },
  {
   "cell_type": "code",
   "execution_count": 32,
   "id": "f1f80022",
   "metadata": {
    "ExecuteTime": {
     "end_time": "2021-10-29T01:34:40.544402Z",
     "start_time": "2021-10-29T01:34:40.538977Z"
    }
   },
   "outputs": [
    {
     "data": {
      "text/plain": [
       "array([[0.35294118, 0.74371859, 0.59016393, 0.35353535, 0.        ,\n",
       "        0.50074516, 0.23441503],\n",
       "       [0.05882353, 0.42713568, 0.54098361, 0.29292929, 0.        ,\n",
       "        0.39642325, 0.11656704],\n",
       "       [0.47058824, 0.91959799, 0.52459016, 0.        , 0.        ,\n",
       "        0.34724292, 0.25362938],\n",
       "       [0.05882353, 0.44723618, 0.54098361, 0.23232323, 0.11111111,\n",
       "        0.41877794, 0.03800171],\n",
       "       [0.        , 0.68844221, 0.32786885, 0.35353535, 0.19858156,\n",
       "        0.64232489, 0.94363792],\n",
       "       [0.29411765, 0.58291457, 0.60655738, 0.        , 0.        ,\n",
       "        0.38152012, 0.05251921],\n",
       "       [0.17647059, 0.3919598 , 0.40983607, 0.32323232, 0.10401891,\n",
       "        0.46199702, 0.07258753],\n",
       "       [0.58823529, 0.57788945, 0.        , 0.        , 0.        ,\n",
       "        0.52608048, 0.02391119],\n",
       "       [0.11764706, 0.98994975, 0.57377049, 0.45454545, 0.64184397,\n",
       "        0.45454545, 0.03415884],\n",
       "       [0.47058824, 0.6281407 , 0.78688525, 0.        , 0.        ,\n",
       "        0.        , 0.06575576]])"
      ]
     },
     "execution_count": 32,
     "metadata": {},
     "output_type": "execute_result"
    }
   ],
   "source": [
    "x[0:10]"
   ]
  },
  {
   "cell_type": "code",
   "execution_count": 20,
   "id": "66458236",
   "metadata": {
    "ExecuteTime": {
     "end_time": "2021-10-29T01:28:03.545674Z",
     "start_time": "2021-10-29T01:28:03.541433Z"
    }
   },
   "outputs": [
    {
     "data": {
      "text/plain": [
       "(154, 7)"
      ]
     },
     "execution_count": 20,
     "metadata": {},
     "output_type": "execute_result"
    }
   ],
   "source": [
    "x_test.shape"
   ]
  },
  {
   "cell_type": "code",
   "execution_count": 22,
   "id": "fc9ed65d",
   "metadata": {
    "ExecuteTime": {
     "end_time": "2021-10-29T01:28:14.701754Z",
     "start_time": "2021-10-29T01:28:14.697778Z"
    }
   },
   "outputs": [
    {
     "data": {
      "text/plain": [
       "(614,)"
      ]
     },
     "execution_count": 22,
     "metadata": {},
     "output_type": "execute_result"
    }
   ],
   "source": [
    "y_train.shape"
   ]
  },
  {
   "cell_type": "code",
   "execution_count": 33,
   "id": "61009304",
   "metadata": {
    "ExecuteTime": {
     "end_time": "2021-10-29T01:34:55.113724Z",
     "start_time": "2021-10-29T01:34:55.110519Z"
    }
   },
   "outputs": [
    {
     "data": {
      "text/plain": [
       "(154,)"
      ]
     },
     "execution_count": 33,
     "metadata": {},
     "output_type": "execute_result"
    }
   ],
   "source": [
    "y_test.shape"
   ]
  },
  {
   "cell_type": "code",
   "execution_count": 40,
   "id": "820bfa7b",
   "metadata": {
    "ExecuteTime": {
     "end_time": "2021-10-29T01:40:41.359527Z",
     "start_time": "2021-10-29T01:40:41.345129Z"
    }
   },
   "outputs": [
    {
     "name": "stdout",
     "output_type": "stream",
     "text": [
      "[[100   7]\n",
      " [ 19  28]]\n"
     ]
    }
   ],
   "source": [
    "from sklearn.linear_model import LogisticRegression\n",
    "from sklearn.metrics import confusion_matrix\n",
    "\n",
    "lreg = LogisticRegression()\n",
    "lreg.fit(x_train, y_train)\n",
    "pred = lreg.predict(x_test)\n",
    "cMat = confusion_matrix(y_test, pred)\n",
    "print(cMat)"
   ]
  },
  {
   "cell_type": "code",
   "execution_count": 42,
   "id": "27909d37",
   "metadata": {
    "ExecuteTime": {
     "end_time": "2021-10-29T01:43:15.589422Z",
     "start_time": "2021-10-29T01:43:15.581080Z"
    }
   },
   "outputs": [
    {
     "name": "stdout",
     "output_type": "stream",
     "text": [
      "Accuracy: 0.8311688311688312\n",
      "Precision: 0.8\n",
      "Recall: 0.5957446808510638\n"
     ]
    }
   ],
   "source": [
    "from sklearn import metrics\n",
    "\n",
    "print(\"Accuracy:\",metrics.accuracy_score(y_test,pred))\n",
    "print(\"Precision:\",metrics.precision_score(y_test,pred))\n",
    "print(\"Recall:\",metrics.recall_score(y_test,pred))"
   ]
  },
  {
   "cell_type": "code",
   "execution_count": 99,
   "id": "f9c96339",
   "metadata": {
    "ExecuteTime": {
     "end_time": "2021-10-29T02:08:14.979916Z",
     "start_time": "2021-10-29T02:08:14.839501Z"
    }
   },
   "outputs": [
    {
     "data": {
      "text/plain": [
       "Text(0.5, 15.0, 'Predicted label')"
      ]
     },
     "execution_count": 99,
     "metadata": {},
     "output_type": "execute_result"
    },
    {
     "data": {
      "image/png": "[encoded data removed]",
      "text/plain": [
       "<Figure size 432x288 with 2 Axes>"
      ]
     },
     "metadata": {
      "needs_background": "light"
     },
     "output_type": "display_data"
    }
   ],
   "source": [
    "import seaborn as sns\n",
    "\n",
    "class_names = [0,1]\n",
    "fig, ax = plt.subplots()\n",
    "tick_marks = np.arange(len(class_names))\n",
    "plt.xticks(tick_marks,class_names)\n",
    "plt.yticks(tick_marks,class_names)\n",
    "sns.heatmap(pd.DataFrame(cMat), annot = True, cmap = 'copper', fmt = 'g')\n",
    "ax.xaxis.set_label_position(\"top\")\n",
    "plt.title('Confusion matrix',y = 1.2)\n",
    "plt.ylabel('Actual label')\n",
    "plt.xlabel('Predicted label')"
   ]
  },
  {
   "cell_type": "markdown",
   "id": "b99d99e9",
   "metadata": {},
   "source": [
    "# Problem 2"
   ]
  },
  {
   "cell_type": "code",
   "execution_count": 86,
   "id": "dbbe447e",
   "metadata": {
    "ExecuteTime": {
     "end_time": "2021-10-29T02:03:04.163108Z",
     "start_time": "2021-10-29T02:03:04.155716Z"
    }
   },
   "outputs": [
    {
     "name": "stdout",
     "output_type": "stream",
     "text": [
      "[[94 13]\n",
      " [19 28]]\n"
     ]
    }
   ],
   "source": [
    "from sklearn.naive_bayes import GaussianNB\n",
    "\n",
    "gUs = GaussianNB()\n",
    "gUs.fit(x_train,y_train)\n",
    "pred = gUs.predict(x_test)\n",
    "cnf_matrix = confusion_matrix(y_test, pred)\n",
    "print(cnf_matrix)"
   ]
  },
  {
   "cell_type": "code",
   "execution_count": 90,
   "id": "82712590",
   "metadata": {
    "ExecuteTime": {
     "end_time": "2021-10-29T02:04:34.785309Z",
     "start_time": "2021-10-29T02:04:34.776551Z"
    }
   },
   "outputs": [
    {
     "name": "stdout",
     "output_type": "stream",
     "text": [
      "Accuracy: 0.7922077922077922\n",
      "Precision: 0.6829268292682927\n",
      "Recall: 0.5957446808510638\n"
     ]
    }
   ],
   "source": [
    "from sklearn import metrics\n",
    "\n",
    "print('Accuracy:', metrics.accuracy_score(y_test, pred))\n",
    "print('Precision:', metrics.precision_score(y_test, pred))\n",
    "print('Recall:', metrics.recall_score(y_test, pred))"
   ]
  },
  {
   "cell_type": "code",
   "execution_count": 1,
   "id": "0f909a60",
   "metadata": {
    "ExecuteTime": {
     "end_time": "2021-10-29T02:40:15.759793Z",
     "start_time": "2021-10-29T02:40:15.293468Z"
    }
   },
   "outputs": [
    {
     "ename": "NameError",
     "evalue": "name 'plt' is not defined",
     "output_type": "error",
     "traceback": [
      "\u001B[0;31m---------------------------------------------------------------------------\u001B[0m",
      "\u001B[0;31mNameError\u001B[0m                                 Traceback (most recent call last)",
      "\u001B[0;32m<ipython-input-1-24864da34d66>\u001B[0m in \u001B[0;36m<module>\u001B[0;34m\u001B[0m\n\u001B[1;32m      2\u001B[0m \u001B[0;34m\u001B[0m\u001B[0m\n\u001B[1;32m      3\u001B[0m \u001B[0mclass_names\u001B[0m \u001B[0;34m=\u001B[0m \u001B[0;34m[\u001B[0m\u001B[0;36m0\u001B[0m\u001B[0;34m,\u001B[0m\u001B[0;36m1\u001B[0m\u001B[0;34m]\u001B[0m\u001B[0;34m\u001B[0m\u001B[0;34m\u001B[0m\u001B[0m\n\u001B[0;32m----> 4\u001B[0;31m \u001B[0mfig\u001B[0m\u001B[0;34m,\u001B[0m \u001B[0max\u001B[0m \u001B[0;34m=\u001B[0m \u001B[0mplt\u001B[0m\u001B[0;34m.\u001B[0m\u001B[0msubplots\u001B[0m\u001B[0;34m(\u001B[0m\u001B[0;34m)\u001B[0m\u001B[0;34m\u001B[0m\u001B[0;34m\u001B[0m\u001B[0m\n\u001B[0m\u001B[1;32m      5\u001B[0m \u001B[0mtick_marks\u001B[0m \u001B[0;34m=\u001B[0m \u001B[0mnp\u001B[0m\u001B[0;34m.\u001B[0m\u001B[0marange\u001B[0m\u001B[0;34m(\u001B[0m\u001B[0mlen\u001B[0m\u001B[0;34m(\u001B[0m\u001B[0mclass_names\u001B[0m\u001B[0;34m)\u001B[0m\u001B[0;34m)\u001B[0m\u001B[0;34m\u001B[0m\u001B[0;34m\u001B[0m\u001B[0m\n\u001B[1;32m      6\u001B[0m \u001B[0mplt\u001B[0m\u001B[0;34m.\u001B[0m\u001B[0mxticks\u001B[0m\u001B[0;34m(\u001B[0m\u001B[0mtick_marks\u001B[0m\u001B[0;34m,\u001B[0m\u001B[0mclass_names\u001B[0m\u001B[0;34m)\u001B[0m\u001B[0;34m\u001B[0m\u001B[0;34m\u001B[0m\u001B[0m\n",
      "\u001B[0;31mNameError\u001B[0m: name 'plt' is not defined"
     ]
    }
   ],
   "source": [
    "import seaborn as sns\n",
    "\n",
    "class_names = [0,1]\n",
    "fig, ax = plt.subplots()\n",
    "tick_marks = np.arange(len(class_names))\n",
    "plt.xticks(tick_marks,class_names)\n",
    "plt.yticks(tick_marks,class_names)\n",
    "sns.heatmap(pd.DataFrame(cMat), annot = True, cmap = 'copper', fmt = 'g')\n",
    "ax.xaxis.set_label_position(\"top\")\n",
    "plt.title('Confusion matrix',y = 1.2)\n",
    "plt.ylabel('Actual label')\n",
    "plt.xlabel('Predicted label')\n",
    "ax=ax"
   ]
  },
  {
   "cell_type": "markdown",
   "id": "50972946",
   "metadata": {},
   "source": [
    "# Problem 3"
   ]
  },
  {
   "cell_type": "code",
   "execution_count": 104,
   "id": "100b830b",
   "metadata": {
    "ExecuteTime": {
     "end_time": "2021-10-29T02:10:56.838952Z",
     "start_time": "2021-10-29T02:10:56.835039Z"
    }
   },
   "outputs": [
    {
     "data": {
      "text/plain": [
       "5"
      ]
     },
     "execution_count": 104,
     "metadata": {},
     "output_type": "execute_result"
    }
   ],
   "source": [
    "from sklearn.model_selection import KFold\n",
    "\n",
    "x_kfold = x\n",
    "y_kfold = y\n",
    "kf = KFold(n_splits=5)\n",
    "kf.get_n_splits(x)"
   ]
  },
  {
   "cell_type": "code",
   "execution_count": 106,
   "id": "98057b57",
   "metadata": {
    "ExecuteTime": {
     "end_time": "2021-10-29T02:11:11.503391Z",
     "start_time": "2021-10-29T02:11:11.499632Z"
    }
   },
   "outputs": [
    {
     "name": "stdout",
     "output_type": "stream",
     "text": [
      "KFold(n_splits=5, random_state=None, shuffle=False)\n"
     ]
    }
   ],
   "source": [
    "print(kf)"
   ]
  },
  {
   "cell_type": "code",
   "execution_count": 108,
   "id": "8fba87b4",
   "metadata": {
    "ExecuteTime": {
     "end_time": "2021-10-29T02:12:43.260686Z",
     "start_time": "2021-10-29T02:12:43.252474Z"
    }
   },
   "outputs": [
    {
     "name": "stdout",
     "output_type": "stream",
     "text": [
      "Accuracy: [0.77922078 0.77922078 0.80519481 0.7012987  0.81818182 0.71428571\n",
      " 0.85714286 0.75324675 0.75       0.75      ]\n",
      "Precision: [0.8        0.8        0.82608696 0.53333333 0.89473684 0.55555556\n",
      " 0.8        0.72222222 0.70588235 0.78947368]\n",
      "Recall: [0.55172414 0.46153846 0.63333333 0.33333333 0.5862069  0.41666667\n",
      " 0.69565217 0.48148148 0.46153846 0.5       ]\n"
     ]
    }
   ],
   "source": [
    "print('Accuracy:', scores['test_accuracy'])\n",
    "print('Precision:', scores['test_precision'])\n",
    "print('Recall:', scores['test_recall'])"
   ]
  },
  {
   "cell_type": "code",
   "execution_count": 121,
   "id": "331726cd",
   "metadata": {
    "ExecuteTime": {
     "end_time": "2021-10-29T02:21:58.314071Z",
     "start_time": "2021-10-29T02:21:58.310008Z"
    }
   },
   "outputs": [],
   "source": [
    "for train_index, test_index in kf.split(x):\n",
    "    x_train, x_test = x_kfold[train_index], x_kfold[test_index]\n",
    "    y_train, y_test = y_kfold[train_index], y_kfold[test_index]"
   ]
  },
  {
   "cell_type": "code",
   "execution_count": 2,
   "id": "2ca27344",
   "metadata": {
    "ExecuteTime": {
     "end_time": "2021-10-29T02:40:52.688008Z",
     "start_time": "2021-10-29T02:40:52.679614Z"
    }
   },
   "outputs": [
    {
     "ename": "NameError",
     "evalue": "name 'x_train' is not defined",
     "output_type": "error",
     "traceback": [
      "\u001B[0;31m---------------------------------------------------------------------------\u001B[0m",
      "\u001B[0;31mNameError\u001B[0m                                 Traceback (most recent call last)",
      "\u001B[0;32m<ipython-input-2-2132a220a582>\u001B[0m in \u001B[0;36m<module>\u001B[0;34m\u001B[0m\n\u001B[0;32m----> 1\u001B[0;31m \u001B[0mx_train\u001B[0m\u001B[0;34m.\u001B[0m\u001B[0mshape\u001B[0m\u001B[0;34m\u001B[0m\u001B[0;34m\u001B[0m\u001B[0m\n\u001B[0m",
      "\u001B[0;31mNameError\u001B[0m: name 'x_train' is not defined"
     ]
    }
   ],
   "source": [
    "x_train.shape"
   ]
  },
  {
   "cell_type": "markdown",
   "id": "c65d86be",
   "metadata": {},
   "source": [
    "# Problem 4"
   ]
  },
  {
   "cell_type": "code",
   "execution_count": 127,
   "id": "f12a3ef1",
   "metadata": {
    "ExecuteTime": {
     "end_time": "2021-10-29T02:22:58.284213Z",
     "start_time": "2021-10-29T02:22:58.277465Z"
    }
   },
   "outputs": [],
   "source": [
    "lreg.fit(x_train,y_train)\n",
    "pred = lreg.predict(x_test)"
   ]
  },
  {
   "cell_type": "code",
   "execution_count": 128,
   "id": "cd44e8d3",
   "metadata": {
    "ExecuteTime": {
     "end_time": "2021-10-29T02:23:04.386098Z",
     "start_time": "2021-10-29T02:23:04.381483Z"
    },
    "scrolled": true
   },
   "outputs": [
    {
     "data": {
      "text/plain": [
       "array([0., 0., 0., 0., 0., 0., 0., 1., 0., 0., 0., 0., 0., 0., 0., 0., 0.,\n",
       "       0., 0., 0., 0., 0., 0., 0., 0., 0., 0., 0., 0., 0., 1., 0., 1., 0.,\n",
       "       0., 0., 0., 0., 0., 0., 1., 0., 0., 1., 0., 1., 1., 1., 1., 0., 0.,\n",
       "       0., 0., 0., 1., 1., 0., 0., 1., 0., 1., 1., 0., 0., 0., 0., 1., 0.,\n",
       "       0., 0., 0., 0., 0., 0., 1., 0., 1., 0., 1., 0., 0., 0., 0., 0., 1.,\n",
       "       0., 0., 1., 0., 0., 0., 0., 0., 1., 0., 0., 0., 1., 0., 0., 1., 1.,\n",
       "       0., 0., 0., 0., 0., 0., 0., 0., 0., 0., 0., 0., 0., 0., 0., 1., 0.,\n",
       "       0., 0., 0., 0., 0., 0., 1., 0., 0., 1., 1., 0., 1., 0., 1., 0., 1.,\n",
       "       0., 0., 1., 1., 0., 0., 0., 0., 1., 0., 1., 0., 0., 0., 0., 0., 0.])"
      ]
     },
     "execution_count": 128,
     "metadata": {},
     "output_type": "execute_result"
    }
   ],
   "source": [
    "pred"
   ]
  },
  {
   "cell_type": "code",
   "execution_count": 134,
   "id": "eb0be1b5",
   "metadata": {
    "ExecuteTime": {
     "end_time": "2021-10-29T02:25:55.732715Z",
     "start_time": "2021-10-29T02:25:55.715669Z"
    }
   },
   "outputs": [
    {
     "name": "stdout",
     "output_type": "stream",
     "text": [
      "Accuracy: 0.7581699346405228\n",
      "Precision: 0.7428571428571429\n",
      "Recall: 0.48148148148148145\n"
     ]
    }
   ],
   "source": [
    "lreg.fit(x_train,y_train)\n",
    "pred = lreg.predict(x_test)\n",
    "print(\"Accuracy:\",metrics.accuracy_score(y_test,pred))\n",
    "print(\"Precision:\",metrics.precision_score(y_test,pred))\n",
    "print(\"Recall:\",metrics.recall_score(y_test,pred))"
   ]
  },
  {
   "cell_type": "code",
   "execution_count": 144,
   "id": "9f2d6534",
   "metadata": {
    "ExecuteTime": {
     "end_time": "2021-10-29T02:29:35.688698Z",
     "start_time": "2021-10-29T02:29:35.685092Z"
    }
   },
   "outputs": [
    {
     "name": "stdout",
     "output_type": "stream",
     "text": [
      "[[90  9]\n",
      " [28 26]]\n"
     ]
    }
   ],
   "source": [
    "cnf_matrix = confusion_matrix(y_test, pred)\n",
    "print(cnf_matrix)"
   ]
  },
  {
   "cell_type": "code",
   "execution_count": 151,
   "id": "bb17d536",
   "metadata": {
    "ExecuteTime": {
     "end_time": "2021-10-29T02:34:32.909910Z",
     "start_time": "2021-10-29T02:34:32.856452Z"
    }
   },
   "outputs": [
    {
     "name": "stdout",
     "output_type": "stream",
     "text": [
      "Accuracy: 0.7655673274094327\n"
     ]
    }
   ],
   "source": [
    "from sklearn.metrics import make_scorer, accuracy_score, precision_score, recall_score\n",
    "from numpy import mean\n",
    "\n",
    "cv = KFold(n_splits=10, random_state=1, shuffle=True)\n",
    "model = GaussianNB()\n",
    "scoring = {'accuracy' : make_scorer(accuracy_score),\n",
    "'precision' : make_scorer(precision_score),\n",
    "'recall' : make_scorer(recall_score)}\n",
    "\n",
    "final_scores = cross_validate(model, x, y, scoring=scoring, cv=cv, n_jobs=-1)\n",
    "print(\"Accuracy:\",mean(final_scores['test_accuracy']))"
   ]
  },
  {
   "cell_type": "code",
   "execution_count": 153,
   "id": "fb219ea5",
   "metadata": {
    "ExecuteTime": {
     "end_time": "2021-10-29T02:36:38.255301Z",
     "start_time": "2021-10-29T02:36:38.212976Z"
    }
   },
   "outputs": [
    {
     "name": "stdout",
     "output_type": "stream",
     "text": [
      "Accuracy: 0.7655673274094327\n",
      "Precision: 0.6863522347218\n",
      "Recall: 0.5936918506558686\n"
     ]
    }
   ],
   "source": [
    "cv = KFold(n_splits=10, random_state=1, shuffle=True)\n",
    "model = GaussianNB()\n",
    "scoring = {'accuracy' : make_scorer(accuracy_score),\n",
    "\n",
    "                    'precision' : make_scorer(precision_score),\n",
    "                    'recall' : make_scorer(recall_score)}\n",
    "\n",
    "final_scores = cross_validate(model, x, y, scoring=scoring, cv=cv, n_jobs=-1)\n",
    "print(\"Accuracy:\",mean(final_scores['test_accuracy']))\n",
    "print(\"Precision:\",mean(final_scores['test_precision']))\n",
    "print(\"Recall:\",mean(final_scores['test_recall']))"
   ]
  }
 ],
 "metadata": {
  "kernelspec": {
   "display_name": "Python 3",
   "language": "python",
   "name": "python3"
  },
  "language_info": {
   "codemirror_mode": {
    "name": "ipython",
    "version": 3
   },
   "file_extension": ".py",
   "mimetype": "text/x-python",
   "name": "python",
   "nbconvert_exporter": "python",
   "pygments_lexer": "ipython3",
   "version": "3.8.10"
  },
  "toc": {
   "base_numbering": 1,
   "nav_menu": {},
   "number_sections": false,
   "sideBar": true,
   "skip_h1_title": false,
   "title_cell": "Table of Contents",
   "title_sidebar": "Contents",
   "toc_cell": false,
   "toc_position": {},
   "toc_section_display": true,
   "toc_window_display": false
  }
 },
 "nbformat": 4,
 "nbformat_minor": 5
}